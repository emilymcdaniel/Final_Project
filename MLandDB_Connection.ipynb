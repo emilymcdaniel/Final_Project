{
  "nbformat": 4,
  "nbformat_minor": 0,
  "metadata": {
    "colab": {
      "name": "Copy of DB-Connection.ipynb",
      "provenance": [],
      "collapsed_sections": []
    },
    "kernelspec": {
      "name": "python3",
      "display_name": "Python 3"
    }
  },
  "cells": [
    {
      "cell_type": "code",
      "metadata": {
        "colab": {
          "base_uri": "https://localhost:8080/"
        },
        "id": "pFKhNZZ9jN7P",
        "outputId": "e0ff552b-c3f4-450b-8e4e-a011b16bc871"
      },
      "source": [
        "import os\n",
        "# Find the latest version of spark 3.1  from http://www-us.apache.org/dist/spark/ and enter as the spark version\n",
        "# For example:\n",
        "# spark_version = 'spark-3.1.1'\n",
        "spark_version = 'spark-3.1.1'\n",
        "os.environ['SPARK_VERSION']=spark_version\n",
        "\n",
        "# Install Spark and Java\n",
        "!apt-get update\n",
        "!apt-get install openjdk-11-jdk-headless -qq > /dev/null\n",
        "!wget -q http://www-us.apache.org/dist/spark/$SPARK_VERSION/$SPARK_VERSION-bin-hadoop2.7.tgz\n",
        "!tar xf $SPARK_VERSION-bin-hadoop2.7.tgz\n",
        "!pip install -q findspark\n",
        "\n",
        "# Set Environment Variables\n",
        "import os\n",
        "os.environ[\"JAVA_HOME\"] = \"/usr/lib/jvm/java-11-openjdk-amd64\"\n",
        "os.environ[\"SPARK_HOME\"] = f\"/content/{spark_version}-bin-hadoop2.7\"\n",
        "\n",
        "# Start a SparkSession\n",
        "import findspark\n",
        "findspark.init()\n",
        "\n",
        "import pandas as pd"
      ],
      "execution_count": null,
      "outputs": [
        {
          "output_type": "stream",
          "text": [
            "\r0% [Working]\r            \rHit:1 https://cloud.r-project.org/bin/linux/ubuntu bionic-cran40/ InRelease\n",
            "\r0% [Waiting for headers] [Waiting for headers] [Waiting for headers] [Waiting f\r0% [1 InRelease gpgv 3,626 B] [Waiting for headers] [Waiting for headers] [Wait\r                                                                               \rIgn:2 https://developer.download.nvidia.com/compute/cuda/repos/ubuntu1804/x86_64  InRelease\n",
            "\r0% [1 InRelease gpgv 3,626 B] [Waiting for headers] [Waiting for headers] [Wait\r                                                                               \rHit:3 http://ppa.launchpad.net/c2d4u.team/c2d4u4.0+/ubuntu bionic InRelease\n",
            "\r0% [1 InRelease gpgv 3,626 B] [Waiting for headers] [Waiting for headers] [Wait\r                                                                               \rHit:4 http://archive.ubuntu.com/ubuntu bionic InRelease\n",
            "\r0% [1 InRelease gpgv 3,626 B] [Waiting for headers] [Waiting for headers] [Conn\r                                                                               \rGet:5 http://security.ubuntu.com/ubuntu bionic-security InRelease [88.7 kB]\n",
            "\r0% [1 InRelease gpgv 3,626 B] [Waiting for headers] [5 InRelease 14.2 kB/88.7 k\r                                                                               \rIgn:6 https://developer.download.nvidia.com/compute/machine-learning/repos/ubuntu1804/x86_64  InRelease\n",
            "\r0% [1 InRelease gpgv 3,626 B] [Waiting for headers] [5 InRelease 14.2 kB/88.7 k\r                                                                               \rHit:7 https://developer.download.nvidia.com/compute/cuda/repos/ubuntu1804/x86_64  Release\n",
            "\r0% [1 InRelease gpgv 3,626 B] [Waiting for headers] [5 InRelease 14.2 kB/88.7 k\r                                                                               \rHit:8 https://developer.download.nvidia.com/compute/machine-learning/repos/ubuntu1804/x86_64  Release\n",
            "Get:9 http://archive.ubuntu.com/ubuntu bionic-updates InRelease [88.7 kB]\n",
            "Hit:10 http://ppa.launchpad.net/cran/libgit2/ubuntu bionic InRelease\n",
            "Hit:11 http://ppa.launchpad.net/deadsnakes/ppa/ubuntu bionic InRelease\n",
            "Get:12 http://archive.ubuntu.com/ubuntu bionic-backports InRelease [74.6 kB]\n",
            "Hit:13 http://ppa.launchpad.net/graphics-drivers/ppa/ubuntu bionic InRelease\n",
            "Fetched 252 kB in 3s (99.1 kB/s)\n",
            "Reading package lists... Done\n"
          ],
          "name": "stdout"
        }
      ]
    },
    {
      "cell_type": "code",
      "metadata": {
        "colab": {
          "base_uri": "https://localhost:8080/"
        },
        "id": "5nxKTA9bkYzi",
        "outputId": "86c23451-78bc-4476-dbeb-cb6319a8d738"
      },
      "source": [
        "#download a Postgres driver that will allow Spark to interact with Postgres:\n",
        "\n",
        "!wget https://jdbc.postgresql.org/download/postgresql-42.2.16.jar"
      ],
      "execution_count": null,
      "outputs": [
        {
          "output_type": "stream",
          "text": [
            "--2021-03-14 22:23:03--  https://jdbc.postgresql.org/download/postgresql-42.2.16.jar\n",
            "Resolving jdbc.postgresql.org (jdbc.postgresql.org)... 72.32.157.228, 2001:4800:3e1:1::228\n",
            "Connecting to jdbc.postgresql.org (jdbc.postgresql.org)|72.32.157.228|:443... connected.\n",
            "HTTP request sent, awaiting response... 200 OK\n",
            "Length: 1002883 (979K) [application/java-archive]\n",
            "Saving to: ‘postgresql-42.2.16.jar.2’\n",
            "\n",
            "postgresql-42.2.16. 100%[===================>] 979.38K  5.70MB/s    in 0.2s    \n",
            "\n",
            "2021-03-14 22:23:04 (5.70 MB/s) - ‘postgresql-42.2.16.jar.2’ saved [1002883/1002883]\n",
            "\n"
          ],
          "name": "stdout"
        }
      ]
    },
    {
      "cell_type": "code",
      "metadata": {
        "id": "VHhKQZ1ekxLG"
      },
      "source": [
        "#start a Spark session with an additional option that adds the driver to Spark:\n",
        "\n",
        "from pyspark.sql import SparkSession\n",
        "spark = SparkSession.builder.appName(\"CloudETL\").config(\"spark.driver.extraClassPath\",\"/content/postgresql-42.2.16.jar\").getOrCreate()"
      ],
      "execution_count": null,
      "outputs": []
    },
    {
      "cell_type": "code",
      "metadata": {
        "id": "3HsYAUrClDaY"
      },
      "source": [
        "# Read in data from S3 Buckets\n",
        "from pyspark import SparkFiles\n",
        "url =\"https://emmp-finalproject-bucket.s3.amazonaws.com/df_econ2.csv\"\n",
        "spark.sparkContext.addFile(url)\n",
        "economic_data_df = spark.read.csv(SparkFiles.get(\"df_econ2.csv\"), sep=\",\", header=True, inferSchema=True)"
      ],
      "execution_count": null,
      "outputs": []
    },
    {
      "cell_type": "code",
      "metadata": {
        "colab": {
          "base_uri": "https://localhost:8080/"
        },
        "id": "MrG0u5Hilgoq",
        "outputId": "28098bab-9384-4892-8114-a54820fa8ab9"
      },
      "source": [
        "# Show DataFrame\n",
        "economic_data_df.show()"
      ],
      "execution_count": null,
      "outputs": [
        {
          "output_type": "stream",
          "text": [
            "+------+------------+------------+------------+--------+---------+--------+\n",
            "|  Date|   inflation|    S&Pyield|unemployment|UMCSENT4|homeindex|UMCSENT6|\n",
            "+------+------------+------------+------------+--------+---------+--------+\n",
            "|200001|         0.0|-0.610842585|         4.0|   111.3|   0.0646|   111.3|\n",
            "|200002| 0.068801898|-0.241296999|         4.1|   107.1|   0.0646|   107.1|\n",
            "|200003| 0.096717122| 1.160637939|         4.0|   109.2|   0.0646|   109.2|\n",
            "|200004| 0.009360374|-0.369549067|         3.8|   110.7|   0.0666|   110.7|\n",
            "|200005| 0.009353079|-0.262980606|         4.0|   106.4|   0.0666|   106.4|\n",
            "|200006| 0.067757009| 0.287202595|         4.0|   108.3|   0.0666|   108.3|\n",
            "|200007| 0.023233301|-0.196095315|         4.0|   107.3|    0.067|   107.3|\n",
            "|200008| 0.002318841| 0.728389262|         4.1|   106.8|    0.067|   106.8|\n",
            "|200009|   0.0625966|-0.641795697|         3.9|   105.8|    0.067|   105.8|\n",
            "|200010| 0.020757255| -0.05939383|         3.9|   107.6|   0.0695|   107.6|\n",
            "|200011| 0.006907137| -0.96082332|         3.9|    98.4|   0.0695|    98.4|\n",
            "|200012|-0.009204219| 0.048641346|         3.9|    94.7|   0.0695|    94.7|\n",
            "|200101| 0.078295912| 0.415638925|         4.2|    90.6|   0.0703|    90.6|\n",
            "|200102| 0.050333651| -1.10748883|         4.2|    91.5|   0.0703|    91.5|\n",
            "|200103| 0.029618379|-0.770456526|         4.3|    88.4|   0.0703|    88.4|\n",
            "|200104| 0.043181818| 0.921772341|         4.4|    92.0|   0.0696|    92.0|\n",
            "|200105| 0.052085299| 0.061082245|         4.3|    92.6|   0.0696|    92.6|\n",
            "|200106| 0.024802706|-0.300424669|         4.5|    92.4|   0.0696|    92.4|\n",
            "|200107|-0.038252391|-0.128881801|         4.6|    91.5|    0.069|    91.5|\n",
            "|200108| 0.004514673|-0.769300879|         4.9|    81.8|    0.069|    81.8|\n",
            "+------+------------+------------+------------+--------+---------+--------+\n",
            "only showing top 20 rows\n",
            "\n"
          ],
          "name": "stdout"
        }
      ]
    },
    {
      "cell_type": "code",
      "metadata": {
        "colab": {
          "base_uri": "https://localhost:8080/"
        },
        "id": "BktoTvx2lmgr",
        "outputId": "cd195602-bb12-4dc3-9e17-2e4c655ee6ec"
      },
      "source": [
        "# Read in data from S3 Buckets - Media Data\n",
        "\n",
        "url =\"https://emmp-finalproject-bucket.s3.amazonaws.com/Movies-Cleaned-Final2.csv\"\n",
        "spark.sparkContext.addFile(url)\n",
        "media_df = spark.read.csv(SparkFiles.get(\"Movies-Cleaned-Final2.csv\"), sep=\",\", header=True, inferSchema=True)\n",
        "\n",
        "# Show DataFrame\n",
        "media_df.show()"
      ],
      "execution_count": null,
      "outputs": [
        {
          "output_type": "stream",
          "text": [
            "+------+-----------+---------+\n",
            "|  Date|Total Gross|    Genre|\n",
            "+------+-----------+---------+\n",
            "|200601|   64724295|   Action|\n",
            "|200602|    8357325|   Action|\n",
            "|200603|  125928240|   Action|\n",
            "|200604|       2220|   Action|\n",
            "|200605|  368533435|   Action|\n",
            "|200606|   65454326|   Action|\n",
            "|200607|   63520641|   Action|\n",
            "|200608|       null|   Action|\n",
            "|200609|   94964871|   Action|\n",
            "|200610|   21727955|   Action|\n",
            "|200611|  170008586|   Action|\n",
            "|200612|  114811324|   Action|\n",
            "|200601|   98665890|Adventure|\n",
            "|200602|  230058104|Adventure|\n",
            "|200603|  195330621|Adventure|\n",
            "|200604|  110323204|Adventure|\n",
            "|200605|  223811794|Adventure|\n",
            "|200606|  472629729|Adventure|\n",
            "|200607|  525119357|Adventure|\n",
            "|200608|   84768328|Adventure|\n",
            "+------+-----------+---------+\n",
            "only showing top 20 rows\n",
            "\n"
          ],
          "name": "stdout"
        }
      ]
    },
    {
      "cell_type": "code",
      "metadata": {
        "colab": {
          "base_uri": "https://localhost:8080/"
        },
        "id": "SGKrlXa5Rx1R",
        "outputId": "e1a3ec88-16a3-4bf9-8636-8c466ad717d8"
      },
      "source": [
        "#Renaming total gross to remove space to make it compatible with SQL database \n",
        "# Removing nulls \n",
        "\n",
        "media_df = media_df.withColumnRenamed(\"Total Gross\", \"Gross\")\n",
        "media_df = media_df.dropna()\n",
        "media_df.show()"
      ],
      "execution_count": null,
      "outputs": [
        {
          "output_type": "stream",
          "text": [
            "+------+---------+---------+\n",
            "|  Date|    Gross|    Genre|\n",
            "+------+---------+---------+\n",
            "|200601| 64724295|   Action|\n",
            "|200602|  8357325|   Action|\n",
            "|200603|125928240|   Action|\n",
            "|200604|     2220|   Action|\n",
            "|200605|368533435|   Action|\n",
            "|200606| 65454326|   Action|\n",
            "|200607| 63520641|   Action|\n",
            "|200609| 94964871|   Action|\n",
            "|200610| 21727955|   Action|\n",
            "|200611|170008586|   Action|\n",
            "|200612|114811324|   Action|\n",
            "|200601| 98665890|Adventure|\n",
            "|200602|230058104|Adventure|\n",
            "|200603|195330621|Adventure|\n",
            "|200604|110323204|Adventure|\n",
            "|200605|223811794|Adventure|\n",
            "|200606|472629729|Adventure|\n",
            "|200607|525119357|Adventure|\n",
            "|200608| 84768328|Adventure|\n",
            "|200609|100385675|Adventure|\n",
            "+------+---------+---------+\n",
            "only showing top 20 rows\n",
            "\n"
          ],
          "name": "stdout"
        }
      ]
    },
    {
      "cell_type": "code",
      "metadata": {
        "colab": {
          "base_uri": "https://localhost:8080/"
        },
        "id": "MWN22JvJXw7l",
        "outputId": "69d335b3-eddf-4bdd-d10d-2b1a467b100f"
      },
      "source": [
        "#Renaming media date column\n",
        "media_df = media_df.withColumnRenamed(\"Date\", \"mDate\")\n",
        "media_df.show()"
      ],
      "execution_count": null,
      "outputs": [
        {
          "output_type": "stream",
          "text": [
            "+------+---------+---------+\n",
            "| mDate|    Gross|    Genre|\n",
            "+------+---------+---------+\n",
            "|200601| 64724295|   Action|\n",
            "|200602|  8357325|   Action|\n",
            "|200603|125928240|   Action|\n",
            "|200604|     2220|   Action|\n",
            "|200605|368533435|   Action|\n",
            "|200606| 65454326|   Action|\n",
            "|200607| 63520641|   Action|\n",
            "|200609| 94964871|   Action|\n",
            "|200610| 21727955|   Action|\n",
            "|200611|170008586|   Action|\n",
            "|200612|114811324|   Action|\n",
            "|200601| 98665890|Adventure|\n",
            "|200602|230058104|Adventure|\n",
            "|200603|195330621|Adventure|\n",
            "|200604|110323204|Adventure|\n",
            "|200605|223811794|Adventure|\n",
            "|200606|472629729|Adventure|\n",
            "|200607|525119357|Adventure|\n",
            "|200608| 84768328|Adventure|\n",
            "|200609|100385675|Adventure|\n",
            "+------+---------+---------+\n",
            "only showing top 20 rows\n",
            "\n"
          ],
          "name": "stdout"
        }
      ]
    },
    {
      "cell_type": "code",
      "metadata": {
        "id": "u4iBLqaYHd_V",
        "colab": {
          "base_uri": "https://localhost:8080/"
        },
        "outputId": "4dedb36c-c84b-4bf5-9b3f-a7e664d31b59"
      },
      "source": [
        "#Create economics DataFrames that match what is in the AWS RDS database.\n",
        "\n",
        "#create economics DF to match economics table\n",
        "clean_economics_df = economic_data_df.select(['Date', 'inflation', 'S&Pyield', 'unemployment', 'UMCSENT4', 'homeindex'])\n",
        "clean_economics_df.show()"
      ],
      "execution_count": null,
      "outputs": [
        {
          "output_type": "stream",
          "text": [
            "+------+------------+------------+------------+--------+---------+\n",
            "|  Date|   inflation|    S&Pyield|unemployment|UMCSENT4|homeindex|\n",
            "+------+------------+------------+------------+--------+---------+\n",
            "|200001|         0.0|-0.610842585|         4.0|   111.3|   0.0646|\n",
            "|200002| 0.068801898|-0.241296999|         4.1|   107.1|   0.0646|\n",
            "|200003| 0.096717122| 1.160637939|         4.0|   109.2|   0.0646|\n",
            "|200004| 0.009360374|-0.369549067|         3.8|   110.7|   0.0666|\n",
            "|200005| 0.009353079|-0.262980606|         4.0|   106.4|   0.0666|\n",
            "|200006| 0.067757009| 0.287202595|         4.0|   108.3|   0.0666|\n",
            "|200007| 0.023233301|-0.196095315|         4.0|   107.3|    0.067|\n",
            "|200008| 0.002318841| 0.728389262|         4.1|   106.8|    0.067|\n",
            "|200009|   0.0625966|-0.641795697|         3.9|   105.8|    0.067|\n",
            "|200010| 0.020757255| -0.05939383|         3.9|   107.6|   0.0695|\n",
            "|200011| 0.006907137| -0.96082332|         3.9|    98.4|   0.0695|\n",
            "|200012|-0.009204219| 0.048641346|         3.9|    94.7|   0.0695|\n",
            "|200101| 0.078295912| 0.415638925|         4.2|    90.6|   0.0703|\n",
            "|200102| 0.050333651| -1.10748883|         4.2|    91.5|   0.0703|\n",
            "|200103| 0.029618379|-0.770456526|         4.3|    88.4|   0.0703|\n",
            "|200104| 0.043181818| 0.921772341|         4.4|    92.0|   0.0696|\n",
            "|200105| 0.052085299| 0.061082245|         4.3|    92.6|   0.0696|\n",
            "|200106| 0.024802706|-0.300424669|         4.5|    92.4|   0.0696|\n",
            "|200107|-0.038252391|-0.128881801|         4.6|    91.5|    0.069|\n",
            "|200108| 0.004514673|-0.769300879|         4.9|    81.8|    0.069|\n",
            "+------+------------+------------+------------+--------+---------+\n",
            "only showing top 20 rows\n",
            "\n"
          ],
          "name": "stdout"
        }
      ]
    },
    {
      "cell_type": "code",
      "metadata": {
        "colab": {
          "base_uri": "https://localhost:8080/"
        },
        "id": "R3DIW--3RglU",
        "outputId": "1d97dbf5-895e-470a-a3d8-b8fa1ac4c7e9"
      },
      "source": [
        "#Removing NA\n",
        "\n",
        "clean_economics_df = clean_economics_df.dropna()\n",
        "clean_economics_df.show()"
      ],
      "execution_count": null,
      "outputs": [
        {
          "output_type": "stream",
          "text": [
            "+------+------------+------------+------------+--------+---------+\n",
            "|  Date|   inflation|    S&Pyield|unemployment|UMCSENT4|homeindex|\n",
            "+------+------------+------------+------------+--------+---------+\n",
            "|200001|         0.0|-0.610842585|         4.0|   111.3|   0.0646|\n",
            "|200002| 0.068801898|-0.241296999|         4.1|   107.1|   0.0646|\n",
            "|200003| 0.096717122| 1.160637939|         4.0|   109.2|   0.0646|\n",
            "|200004| 0.009360374|-0.369549067|         3.8|   110.7|   0.0666|\n",
            "|200005| 0.009353079|-0.262980606|         4.0|   106.4|   0.0666|\n",
            "|200006| 0.067757009| 0.287202595|         4.0|   108.3|   0.0666|\n",
            "|200007| 0.023233301|-0.196095315|         4.0|   107.3|    0.067|\n",
            "|200008| 0.002318841| 0.728389262|         4.1|   106.8|    0.067|\n",
            "|200009|   0.0625966|-0.641795697|         3.9|   105.8|    0.067|\n",
            "|200010| 0.020757255| -0.05939383|         3.9|   107.6|   0.0695|\n",
            "|200011| 0.006907137| -0.96082332|         3.9|    98.4|   0.0695|\n",
            "|200012|-0.009204219| 0.048641346|         3.9|    94.7|   0.0695|\n",
            "|200101| 0.078295912| 0.415638925|         4.2|    90.6|   0.0703|\n",
            "|200102| 0.050333651| -1.10748883|         4.2|    91.5|   0.0703|\n",
            "|200103| 0.029618379|-0.770456526|         4.3|    88.4|   0.0703|\n",
            "|200104| 0.043181818| 0.921772341|         4.4|    92.0|   0.0696|\n",
            "|200105| 0.052085299| 0.061082245|         4.3|    92.6|   0.0696|\n",
            "|200106| 0.024802706|-0.300424669|         4.5|    92.4|   0.0696|\n",
            "|200107|-0.038252391|-0.128881801|         4.6|    91.5|    0.069|\n",
            "|200108| 0.004514673|-0.769300879|         4.9|    81.8|    0.069|\n",
            "+------+------------+------------+------------+--------+---------+\n",
            "only showing top 20 rows\n",
            "\n"
          ],
          "name": "stdout"
        }
      ]
    },
    {
      "cell_type": "code",
      "metadata": {
        "colab": {
          "base_uri": "https://localhost:8080/"
        },
        "id": "K72ZushEO3JV",
        "outputId": "977d9c77-1ea2-42cb-dfd0-70ef938ee3d2"
      },
      "source": [
        "#Renaming S&P to remove ampere sign to make compatible with SQL database \n",
        "\n",
        "clean_economics_df = clean_economics_df.withColumnRenamed(\"S&Pyield\", \"SPyield\")\n",
        "clean_economics_df.show()"
      ],
      "execution_count": null,
      "outputs": [
        {
          "output_type": "stream",
          "text": [
            "+------+------------+------------+------------+--------+---------+\n",
            "|  Date|   inflation|     SPyield|unemployment|UMCSENT4|homeindex|\n",
            "+------+------------+------------+------------+--------+---------+\n",
            "|200001|         0.0|-0.610842585|         4.0|   111.3|   0.0646|\n",
            "|200002| 0.068801898|-0.241296999|         4.1|   107.1|   0.0646|\n",
            "|200003| 0.096717122| 1.160637939|         4.0|   109.2|   0.0646|\n",
            "|200004| 0.009360374|-0.369549067|         3.8|   110.7|   0.0666|\n",
            "|200005| 0.009353079|-0.262980606|         4.0|   106.4|   0.0666|\n",
            "|200006| 0.067757009| 0.287202595|         4.0|   108.3|   0.0666|\n",
            "|200007| 0.023233301|-0.196095315|         4.0|   107.3|    0.067|\n",
            "|200008| 0.002318841| 0.728389262|         4.1|   106.8|    0.067|\n",
            "|200009|   0.0625966|-0.641795697|         3.9|   105.8|    0.067|\n",
            "|200010| 0.020757255| -0.05939383|         3.9|   107.6|   0.0695|\n",
            "|200011| 0.006907137| -0.96082332|         3.9|    98.4|   0.0695|\n",
            "|200012|-0.009204219| 0.048641346|         3.9|    94.7|   0.0695|\n",
            "|200101| 0.078295912| 0.415638925|         4.2|    90.6|   0.0703|\n",
            "|200102| 0.050333651| -1.10748883|         4.2|    91.5|   0.0703|\n",
            "|200103| 0.029618379|-0.770456526|         4.3|    88.4|   0.0703|\n",
            "|200104| 0.043181818| 0.921772341|         4.4|    92.0|   0.0696|\n",
            "|200105| 0.052085299| 0.061082245|         4.3|    92.6|   0.0696|\n",
            "|200106| 0.024802706|-0.300424669|         4.5|    92.4|   0.0696|\n",
            "|200107|-0.038252391|-0.128881801|         4.6|    91.5|    0.069|\n",
            "|200108| 0.004514673|-0.769300879|         4.9|    81.8|    0.069|\n",
            "+------+------------+------------+------------+--------+---------+\n",
            "only showing top 20 rows\n",
            "\n"
          ],
          "name": "stdout"
        }
      ]
    },
    {
      "cell_type": "code",
      "metadata": {
        "colab": {
          "base_uri": "https://localhost:8080/"
        },
        "id": "yC2woim5Xjx9",
        "outputId": "91251daf-d8f3-48a4-eb80-0c3a9d63b279"
      },
      "source": [
        "#Renaming Date column \n",
        "clean_economics_df = clean_economics_df.withColumnRenamed(\"Date\", \"eDate\")\n",
        "clean_economics_df.show()"
      ],
      "execution_count": null,
      "outputs": [
        {
          "output_type": "stream",
          "text": [
            "+------+------------+------------+------------+--------+---------+\n",
            "| eDate|   inflation|     SPyield|unemployment|UMCSENT4|homeindex|\n",
            "+------+------------+------------+------------+--------+---------+\n",
            "|200001|         0.0|-0.610842585|         4.0|   111.3|   0.0646|\n",
            "|200002| 0.068801898|-0.241296999|         4.1|   107.1|   0.0646|\n",
            "|200003| 0.096717122| 1.160637939|         4.0|   109.2|   0.0646|\n",
            "|200004| 0.009360374|-0.369549067|         3.8|   110.7|   0.0666|\n",
            "|200005| 0.009353079|-0.262980606|         4.0|   106.4|   0.0666|\n",
            "|200006| 0.067757009| 0.287202595|         4.0|   108.3|   0.0666|\n",
            "|200007| 0.023233301|-0.196095315|         4.0|   107.3|    0.067|\n",
            "|200008| 0.002318841| 0.728389262|         4.1|   106.8|    0.067|\n",
            "|200009|   0.0625966|-0.641795697|         3.9|   105.8|    0.067|\n",
            "|200010| 0.020757255| -0.05939383|         3.9|   107.6|   0.0695|\n",
            "|200011| 0.006907137| -0.96082332|         3.9|    98.4|   0.0695|\n",
            "|200012|-0.009204219| 0.048641346|         3.9|    94.7|   0.0695|\n",
            "|200101| 0.078295912| 0.415638925|         4.2|    90.6|   0.0703|\n",
            "|200102| 0.050333651| -1.10748883|         4.2|    91.5|   0.0703|\n",
            "|200103| 0.029618379|-0.770456526|         4.3|    88.4|   0.0703|\n",
            "|200104| 0.043181818| 0.921772341|         4.4|    92.0|   0.0696|\n",
            "|200105| 0.052085299| 0.061082245|         4.3|    92.6|   0.0696|\n",
            "|200106| 0.024802706|-0.300424669|         4.5|    92.4|   0.0696|\n",
            "|200107|-0.038252391|-0.128881801|         4.6|    91.5|    0.069|\n",
            "|200108| 0.004514673|-0.769300879|         4.9|    81.8|    0.069|\n",
            "+------+------------+------------+------------+--------+---------+\n",
            "only showing top 20 rows\n",
            "\n"
          ],
          "name": "stdout"
        }
      ]
    },
    {
      "cell_type": "code",
      "metadata": {
        "id": "DDNI3wFkOLzp"
      },
      "source": [
        "# Load - transformed raw data into our database.\n",
        "# Configure settings for RDS\n",
        "mode = \"append\"\n",
        "jdbc_url=\"jdbc:postgresql://dbfinal.cp1bf7yng3ct.us-east-1.rds.amazonaws.com:5432/final_project\"\n",
        "config = {\"user\":\"postgres\",\n",
        "          \"password\": \"Password\",\n",
        "          \"driver\":\"org.postgresql.Driver\"}"
      ],
      "execution_count": null,
      "outputs": []
    },
    {
      "cell_type": "code",
      "metadata": {
        "id": "lZGclorOO0B1"
      },
      "source": [
        "# DataFrame to economics table\n",
        "clean_economics_df.write.jdbc(url=jdbc_url, table='economics', mode=mode, properties=config)"
      ],
      "execution_count": null,
      "outputs": []
    },
    {
      "cell_type": "code",
      "metadata": {
        "id": "IsVvXIGRQwMC"
      },
      "source": [
        "# DataFrame to media_info table\n",
        "media_df.write.jdbc(url=jdbc_url, table='media_info', mode=mode, properties=config)"
      ],
      "execution_count": null,
      "outputs": []
    },
    {
      "cell_type": "code",
      "metadata": {
        "id": "ith5IFATTno3"
      },
      "source": [
        "# Join the tables on the database "
      ],
      "execution_count": null,
      "outputs": []
    },
    {
      "cell_type": "code",
      "metadata": {
        "id": "sFPaHqNrk8Vx"
      },
      "source": [
        "#Importing the economics & media data combined \n",
        "\n",
        "medianeconomics_table = spark.read.jdbc(url=jdbc_url, table=\"medianeconomics\", properties=config)\n"
      ],
      "execution_count": null,
      "outputs": []
    },
    {
      "cell_type": "code",
      "metadata": {
        "colab": {
          "base_uri": "https://localhost:8080/"
        },
        "id": "NcWr4HV_oJZd",
        "outputId": "bb268bc7-ae56-4f15-ecaf-014909f99b82"
      },
      "source": [
        "medianeconomics_table.show()"
      ],
      "execution_count": null,
      "outputs": [
        {
          "output_type": "stream",
          "text": [
            "+------+------------+-----------+------------+--------+---------+---------+---------+\n",
            "| edate|   inflation|    spyield|unemployment|umcsent4|homeindex|    genre|    gross|\n",
            "+------+------------+-----------+------------+--------+---------+---------+---------+\n",
            "|200601|   0.0916186| 0.30560127|         4.7|    86.7|   0.0914|   Action| 64724295|\n",
            "|200602| 0.026267048|0.005437892|         4.8|    88.9|   0.0914|   Action|  8357325|\n",
            "|200603|  0.06854839| 0.13314973|         4.7|    87.4|   0.0914|   Action|125928240|\n",
            "|200604|   0.0982292| 0.14586784|         4.7|    79.1|    0.071|   Action|     2220|\n",
            "|200605|  0.05965203|  -0.371003|         4.6|    84.9|    0.071|   Action|368533435|\n",
            "|200606| 0.025721353|0.001039155|         4.6|    84.7|    0.071|   Action| 65454326|\n",
            "|200607| 0.035538007|0.061030544|         4.7|    82.0|   0.0455|   Action| 63520641|\n",
            "|200609|-0.058929447| 0.29479557|         4.5|    93.6|   0.0455|   Action| 94964871|\n",
            "|200610|-0.065142296| 0.37809604|         4.4|    92.1|   0.0288|   Action| 21727955|\n",
            "|200611|-0.019847833| 0.19759989|         4.5|    91.7|   0.0288|   Action|170008586|\n",
            "|200612| 0.017892644| 0.15138939|         4.4|    96.9|   0.0288|   Action|114811324|\n",
            "|200601|   0.0916186| 0.30560127|         4.7|    86.7|   0.0914|Adventure| 98665890|\n",
            "|200602| 0.026267048|0.005437892|         4.8|    88.9|   0.0914|Adventure|230058104|\n",
            "|200603|  0.06854839| 0.13314973|         4.7|    87.4|   0.0914|Adventure|195330621|\n",
            "|200604|   0.0982292| 0.14586784|         4.7|    79.1|    0.071|Adventure|110323204|\n",
            "|200605|  0.05965203|  -0.371003|         4.6|    84.9|    0.071|Adventure|223811794|\n",
            "|200606| 0.025721353|0.001039155|         4.6|    84.7|    0.071|Adventure|472629729|\n",
            "|200607| 0.035538007|0.061030544|         4.7|    82.0|   0.0455|Adventure|525119357|\n",
            "|200608|  0.02559055| 0.25529033|         4.7|    85.4|   0.0455|Adventure| 84768328|\n",
            "|200609|-0.058929447| 0.29479557|         4.5|    93.6|   0.0455|Adventure|100385675|\n",
            "+------+------------+-----------+------------+--------+---------+---------+---------+\n",
            "only showing top 20 rows\n",
            "\n"
          ],
          "name": "stdout"
        }
      ]
    },
    {
      "cell_type": "code",
      "metadata": {
        "id": "tL7m1qyFrloR"
      },
      "source": [
        "# Save file local folder, delimiter by default is ,\n",
        "medianeconomics_table.write.format('csv').option('header',True).mode('overwrite').option('sep',',').save('file:///Mac_1/Downloads/output.csv')\n",
        "\n",
        "#OR\n",
        "\n",
        "#medianeconomics_table.repartition(1).write.format('com.databricks.spark.csv').save('file:///Mac_1/Downloads/output2.csv',header = 'true')"
      ],
      "execution_count": null,
      "outputs": []
    },
    {
      "cell_type": "code",
      "metadata": {
        "id": "YwJc8OmWQh-F"
      },
      "source": [
        "data_df = medianeconomics_table"
      ],
      "execution_count": null,
      "outputs": []
    },
    {
      "cell_type": "code",
      "metadata": {
        "colab": {
          "base_uri": "https://localhost:8080/"
        },
        "id": "PHuwoLaxQtx2",
        "outputId": "380c24a8-83ff-44bc-9fbd-f98218d07743"
      },
      "source": [
        "data_df.show()\n"
      ],
      "execution_count": null,
      "outputs": [
        {
          "output_type": "stream",
          "text": [
            "+------+------------+-----------+------------+--------+---------+---------+---------+\n",
            "| edate|   inflation|    spyield|unemployment|umcsent4|homeindex|    genre|    gross|\n",
            "+------+------------+-----------+------------+--------+---------+---------+---------+\n",
            "|200601|   0.0916186| 0.30560127|         4.7|    86.7|   0.0914|   Action| 64724295|\n",
            "|200602| 0.026267048|0.005437892|         4.8|    88.9|   0.0914|   Action|  8357325|\n",
            "|200603|  0.06854839| 0.13314973|         4.7|    87.4|   0.0914|   Action|125928240|\n",
            "|200604|   0.0982292| 0.14586784|         4.7|    79.1|    0.071|   Action|     2220|\n",
            "|200605|  0.05965203|  -0.371003|         4.6|    84.9|    0.071|   Action|368533435|\n",
            "|200606| 0.025721353|0.001039155|         4.6|    84.7|    0.071|   Action| 65454326|\n",
            "|200607| 0.035538007|0.061030544|         4.7|    82.0|   0.0455|   Action| 63520641|\n",
            "|200609|-0.058929447| 0.29479557|         4.5|    93.6|   0.0455|   Action| 94964871|\n",
            "|200610|-0.065142296| 0.37809604|         4.4|    92.1|   0.0288|   Action| 21727955|\n",
            "|200611|-0.019847833| 0.19759989|         4.5|    91.7|   0.0288|   Action|170008586|\n",
            "|200612| 0.017892644| 0.15138939|         4.4|    96.9|   0.0288|   Action|114811324|\n",
            "|200601|   0.0916186| 0.30560127|         4.7|    86.7|   0.0914|Adventure| 98665890|\n",
            "|200602| 0.026267048|0.005437892|         4.8|    88.9|   0.0914|Adventure|230058104|\n",
            "|200603|  0.06854839| 0.13314973|         4.7|    87.4|   0.0914|Adventure|195330621|\n",
            "|200604|   0.0982292| 0.14586784|         4.7|    79.1|    0.071|Adventure|110323204|\n",
            "|200605|  0.05965203|  -0.371003|         4.6|    84.9|    0.071|Adventure|223811794|\n",
            "|200606| 0.025721353|0.001039155|         4.6|    84.7|    0.071|Adventure|472629729|\n",
            "|200607| 0.035538007|0.061030544|         4.7|    82.0|   0.0455|Adventure|525119357|\n",
            "|200608|  0.02559055| 0.25529033|         4.7|    85.4|   0.0455|Adventure| 84768328|\n",
            "|200609|-0.058929447| 0.29479557|         4.5|    93.6|   0.0455|Adventure|100385675|\n",
            "+------+------------+-----------+------------+--------+---------+---------+---------+\n",
            "only showing top 20 rows\n",
            "\n"
          ],
          "name": "stdout"
        }
      ]
    },
    {
      "cell_type": "code",
      "metadata": {
        "colab": {
          "base_uri": "https://localhost:8080/"
        },
        "id": "ze0EsPOWl-yd",
        "outputId": "96f495f9-bd78-47ae-e104-3f6114467327"
      },
      "source": [
        "data_df.printSchema()"
      ],
      "execution_count": null,
      "outputs": [
        {
          "output_type": "stream",
          "text": [
            "root\n",
            " |-- edate: integer (nullable = true)\n",
            " |-- inflation: float (nullable = true)\n",
            " |-- spyield: float (nullable = true)\n",
            " |-- unemployment: float (nullable = true)\n",
            " |-- umcsent4: float (nullable = true)\n",
            " |-- homeindex: float (nullable = true)\n",
            " |-- genre: string (nullable = true)\n",
            " |-- gross: integer (nullable = true)\n",
            "\n"
          ],
          "name": "stdout"
        }
      ]
    },
    {
      "cell_type": "code",
      "metadata": {
        "id": "UGWbHIYNuMig"
      },
      "source": [
        "# import libraries\n",
        "from pyspark import SparkContext\n",
        "from pyspark.sql import SQLContext\n",
        "from pyspark.sql.session import SparkSession\n",
        "from pyspark.sql.functions import col\n"
      ],
      "execution_count": null,
      "outputs": []
    },
    {
      "cell_type": "code",
      "metadata": {
        "colab": {
          "base_uri": "https://localhost:8080/"
        },
        "id": "YhibwtNuyhsM",
        "outputId": "d0b057f3-2180-4dda-a38f-880591a4156a"
      },
      "source": [
        "#Transformer & split \n",
        "\n",
        "from pyspark.ml.linalg import Vectors\n",
        "from pyspark.ml.feature import VectorAssembler\n",
        "# transformer\n",
        "vector_assembler = VectorAssembler(inputCols=[\"edate\", \"inflation\", \"spyield\", \"unemployment\", \"umcsent4\",\"homeindex\",\"gross\"],outputCol=\"features\")\n",
        "df_temp = vector_assembler.transform(data_df)\n",
        "df_temp.show(3)\n",
        "# drop the original data features column\n",
        "data_df = df_temp.drop('edate', 'inflation', 'spyield', 'unemployment', 'umcsent4', 'homeindex', 'gross')\n",
        "data_df.show(3)\n",
        "from pyspark.ml.feature import StringIndexer\n",
        "# estimator\n",
        "l_indexer = StringIndexer(inputCol=\"genre\", outputCol=\"genreIndex\")\n",
        "data_df = l_indexer.fit(data_df).transform(data_df)\n",
        "data_df.show(3)\n",
        "# data splitting\n",
        "(training,testing) = data_df.randomSplit([0.7,0.3])"
      ],
      "execution_count": null,
      "outputs": [
        {
          "output_type": "stream",
          "text": [
            "+------+-----------+-----------+------------+--------+---------+------+---------+--------------------+\n",
            "| edate|  inflation|    spyield|unemployment|umcsent4|homeindex| genre|    gross|            features|\n",
            "+------+-----------+-----------+------------+--------+---------+------+---------+--------------------+\n",
            "|200601|  0.0916186| 0.30560127|         4.7|    86.7|   0.0914|Action| 64724295|[200601.0,0.09161...|\n",
            "|200602|0.026267048|0.005437892|         4.8|    88.9|   0.0914|Action|  8357325|[200602.0,0.02626...|\n",
            "|200603| 0.06854839| 0.13314973|         4.7|    87.4|   0.0914|Action|125928240|[200603.0,0.06854...|\n",
            "+------+-----------+-----------+------------+--------+---------+------+---------+--------------------+\n",
            "only showing top 3 rows\n",
            "\n",
            "+------+--------------------+\n",
            "| genre|            features|\n",
            "+------+--------------------+\n",
            "|Action|[200601.0,0.09161...|\n",
            "|Action|[200602.0,0.02626...|\n",
            "|Action|[200603.0,0.06854...|\n",
            "+------+--------------------+\n",
            "only showing top 3 rows\n",
            "\n",
            "+------+--------------------+----------+\n",
            "| genre|            features|genreIndex|\n",
            "+------+--------------------+----------+\n",
            "|Action|[200601.0,0.09161...|       3.0|\n",
            "|Action|[200602.0,0.02626...|       3.0|\n",
            "|Action|[200603.0,0.06854...|       3.0|\n",
            "+------+--------------------+----------+\n",
            "only showing top 3 rows\n",
            "\n"
          ],
          "name": "stdout"
        }
      ]
    },
    {
      "cell_type": "code",
      "metadata": {
        "colab": {
          "base_uri": "https://localhost:8080/"
        },
        "id": "BhKriabB0l4t",
        "outputId": "1dd3cea4-9e50-46ff-a988-e2e7727538f4"
      },
      "source": [
        "from pyspark.ml.classification import DecisionTreeClassifier\n",
        "# train our model using training data\n",
        "dt = DecisionTreeClassifier(labelCol=\"genreIndex\", featuresCol=\"features\")\n",
        "model = dt.fit(training)\n",
        "# test our model and make predictions using testing data\n",
        "predictions = model.transform(testing)\n",
        "predictions.select(\"prediction\", \"genreIndex\").show(5)"
      ],
      "execution_count": null,
      "outputs": [
        {
          "output_type": "stream",
          "text": [
            "+----------+----------+\n",
            "|prediction|genreIndex|\n",
            "+----------+----------+\n",
            "|       5.0|       3.0|\n",
            "|       5.0|       3.0|\n",
            "|       0.0|       3.0|\n",
            "|       4.0|       3.0|\n",
            "|       0.0|       3.0|\n",
            "+----------+----------+\n",
            "only showing top 5 rows\n",
            "\n"
          ],
          "name": "stdout"
        }
      ]
    },
    {
      "cell_type": "code",
      "metadata": {
        "id": "gBa4MJ2i1Kjk"
      },
      "source": [
        "from pyspark.ml.evaluation import MulticlassClassificationEvaluator"
      ],
      "execution_count": null,
      "outputs": []
    },
    {
      "cell_type": "code",
      "metadata": {
        "id": "JgjfDB--uQB-",
        "colab": {
          "base_uri": "https://localhost:8080/"
        },
        "outputId": "4e049a59-afc8-45de-ea8a-b5b7fe99a94c"
      },
      "source": [
        "evaluator = MulticlassClassificationEvaluator(labelCol=\"genreIndex\", predictionCol=\"prediction\",metricName=\"accuracy\")\n",
        "accuracy = evaluator.evaluate(predictions)\n",
        "print(\"Test Error = %g \" % (1.0 - accuracy))\n",
        "print(\"Accuracy = %g \" % accuracy)\n"
      ],
      "execution_count": null,
      "outputs": [
        {
          "output_type": "stream",
          "text": [
            "Test Error = 0.776398 \n",
            "Accuracy = 0.223602 \n"
          ],
          "name": "stdout"
        }
      ]
    }
  ]
}
