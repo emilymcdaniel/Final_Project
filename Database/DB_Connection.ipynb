{
  "nbformat": 4,
  "nbformat_minor": 0,
  "metadata": {
    "colab": {
      "name": "DB-Connection.ipynb",
      "provenance": [],
      "collapsed_sections": []
    },
    "kernelspec": {
      "name": "python3",
      "display_name": "Python 3"
    }
  },
  "cells": [
    {
      "cell_type": "code",
      "metadata": {
        "colab": {
          "base_uri": "https://localhost:8080/"
        },
        "id": "pFKhNZZ9jN7P",
        "outputId": "d0e9202e-2cb5-40cd-c537-3ea4ac2dc64b"
      },
      "source": [
        "import os\n",
        "# Find the latest version of spark 3.1  from http://www-us.apache.org/dist/spark/ and enter as the spark version\n",
        "# For example:\n",
        "# spark_version = 'spark-3.1.1'\n",
        "spark_version = 'spark-3.1.1'\n",
        "os.environ['SPARK_VERSION']=spark_version\n",
        "\n",
        "# Install Spark and Java\n",
        "!apt-get update\n",
        "!apt-get install openjdk-11-jdk-headless -qq > /dev/null\n",
        "!wget -q http://www-us.apache.org/dist/spark/$SPARK_VERSION/$SPARK_VERSION-bin-hadoop2.7.tgz\n",
        "!tar xf $SPARK_VERSION-bin-hadoop2.7.tgz\n",
        "!pip install -q findspark\n",
        "\n",
        "# Set Environment Variables\n",
        "import os\n",
        "os.environ[\"JAVA_HOME\"] = \"/usr/lib/jvm/java-11-openjdk-amd64\"\n",
        "os.environ[\"SPARK_HOME\"] = f\"/content/{spark_version}-bin-hadoop2.7\"\n",
        "\n",
        "# Start a SparkSession\n",
        "import findspark\n",
        "findspark.init()\n",
        "\n",
        "import pandas as pd"
      ],
      "execution_count": 1,
      "outputs": [
        {
          "output_type": "stream",
          "text": [
            "\r0% [Working]\r            \rGet:1 https://cloud.r-project.org/bin/linux/ubuntu bionic-cran40/ InRelease [3,626 B]\n",
            "\r0% [Waiting for headers] [Waiting for headers] [1 InRelease 0 B/3,626 B 0%] [Wa\r0% [Waiting for headers] [Waiting for headers] [Waiting for headers] [Waiting f\r                                                                               \rIgn:2 https://developer.download.nvidia.com/compute/cuda/repos/ubuntu1804/x86_64  InRelease\n",
            "\r0% [Waiting for headers] [Waiting for headers] [Waiting for headers] [Waiting f\r0% [1 InRelease gpgv 3,626 B] [Waiting for headers] [Waiting for headers] [Wait\r                                                                               \rGet:3 http://security.ubuntu.com/ubuntu bionic-security InRelease [88.7 kB]\n",
            "\r0% [1 InRelease gpgv 3,626 B] [Waiting for headers] [3 InRelease 14.2 kB/88.7 k\r                                                                               \rGet:4 http://ppa.launchpad.net/c2d4u.team/c2d4u4.0+/ubuntu bionic InRelease [15.9 kB]\n",
            "\r0% [1 InRelease gpgv 3,626 B] [Waiting for headers] [3 InRelease 14.2 kB/88.7 k\r                                                                               \rHit:5 http://archive.ubuntu.com/ubuntu bionic InRelease\n",
            "\r0% [1 InRelease gpgv 3,626 B] [Waiting for headers] [3 InRelease 14.2 kB/88.7 k\r                                                                               \rIgn:6 https://developer.download.nvidia.com/compute/machine-learning/repos/ubuntu1804/x86_64  InRelease\n",
            "\r0% [1 InRelease gpgv 3,626 B] [Waiting for headers] [3 InRelease 14.2 kB/88.7 k\r                                                                               \rGet:7 https://developer.download.nvidia.com/compute/cuda/repos/ubuntu1804/x86_64  Release [697 B]\n",
            "\r0% [1 InRelease gpgv 3,626 B] [Waiting for headers] [3 InRelease 14.2 kB/88.7 k\r0% [1 InRelease gpgv 3,626 B] [Waiting for headers] [3 InRelease 14.2 kB/88.7 k\r                                                                               \rHit:8 https://developer.download.nvidia.com/compute/machine-learning/repos/ubuntu1804/x86_64  Release\n",
            "Get:9 https://developer.download.nvidia.com/compute/cuda/repos/ubuntu1804/x86_64  Release.gpg [836 B]\n",
            "Get:10 http://archive.ubuntu.com/ubuntu bionic-updates InRelease [88.7 kB]\n",
            "Hit:11 http://ppa.launchpad.net/cran/libgit2/ubuntu bionic InRelease\n",
            "Get:12 http://archive.ubuntu.com/ubuntu bionic-backports InRelease [74.6 kB]\n",
            "Hit:13 http://ppa.launchpad.net/deadsnakes/ppa/ubuntu bionic InRelease\n",
            "Hit:14 http://ppa.launchpad.net/graphics-drivers/ppa/ubuntu bionic InRelease\n",
            "Ign:16 https://developer.download.nvidia.com/compute/cuda/repos/ubuntu1804/x86_64  Packages\n",
            "Get:16 https://developer.download.nvidia.com/compute/cuda/repos/ubuntu1804/x86_64  Packages [577 kB]\n",
            "Get:17 http://ppa.launchpad.net/c2d4u.team/c2d4u4.0+/ubuntu bionic/main Sources [1,745 kB]\n",
            "Get:18 http://security.ubuntu.com/ubuntu bionic-security/main amd64 Packages [1,964 kB]\n",
            "Get:19 http://archive.ubuntu.com/ubuntu bionic-updates/universe amd64 Packages [2,163 kB]\n",
            "Get:20 http://security.ubuntu.com/ubuntu bionic-security/universe amd64 Packages [1,396 kB]\n",
            "Get:21 http://ppa.launchpad.net/c2d4u.team/c2d4u4.0+/ubuntu bionic/main amd64 Packages [893 kB]\n",
            "Get:22 http://archive.ubuntu.com/ubuntu bionic-updates/main amd64 Packages [2,394 kB]\n",
            "Fetched 11.4 MB in 3s (3,491 kB/s)\n",
            "Reading package lists... Done\n"
          ],
          "name": "stdout"
        }
      ]
    },
    {
      "cell_type": "code",
      "metadata": {
        "colab": {
          "base_uri": "https://localhost:8080/"
        },
        "id": "5nxKTA9bkYzi",
        "outputId": "c97c90de-72fb-4dec-aa43-a4347cba41f3"
      },
      "source": [
        "#download a Postgres driver that will allow Spark to interact with Postgres:\n",
        "\n",
        "!wget https://jdbc.postgresql.org/download/postgresql-42.2.16.jar"
      ],
      "execution_count": 2,
      "outputs": [
        {
          "output_type": "stream",
          "text": [
            "--2021-03-10 02:05:24--  https://jdbc.postgresql.org/download/postgresql-42.2.16.jar\n",
            "Resolving jdbc.postgresql.org (jdbc.postgresql.org)... 72.32.157.228, 2001:4800:3e1:1::228\n",
            "Connecting to jdbc.postgresql.org (jdbc.postgresql.org)|72.32.157.228|:443... connected.\n",
            "HTTP request sent, awaiting response... 200 OK\n",
            "Length: 1002883 (979K) [application/java-archive]\n",
            "Saving to: ‘postgresql-42.2.16.jar’\n",
            "\n",
            "postgresql-42.2.16. 100%[===================>] 979.38K  --.-KB/s    in 0.1s    \n",
            "\n",
            "2021-03-10 02:05:25 (6.57 MB/s) - ‘postgresql-42.2.16.jar’ saved [1002883/1002883]\n",
            "\n"
          ],
          "name": "stdout"
        }
      ]
    },
    {
      "cell_type": "code",
      "metadata": {
        "id": "VHhKQZ1ekxLG"
      },
      "source": [
        "#start a Spark session with an additional option that adds the driver to Spark:\n",
        "\n",
        "from pyspark.sql import SparkSession\n",
        "spark = SparkSession.builder.appName(\"CloudETL\").config(\"spark.driver.extraClassPath\",\"/content/postgresql-42.2.16.jar\").getOrCreate()"
      ],
      "execution_count": 4,
      "outputs": []
    },
    {
      "cell_type": "code",
      "metadata": {
        "id": "3HsYAUrClDaY"
      },
      "source": [
        "# Read in data from S3 Buckets\n",
        "from pyspark import SparkFiles\n",
        "url =\"https://emmp-finalproject-bucket.s3.amazonaws.com/df_econ2.csv\"\n",
        "spark.sparkContext.addFile(url)\n",
        "economic_data_df = spark.read.csv(SparkFiles.get(\"df_econ2.csv\"), sep=\",\", header=True, inferSchema=True)"
      ],
      "execution_count": 5,
      "outputs": []
    },
    {
      "cell_type": "code",
      "metadata": {
        "colab": {
          "base_uri": "https://localhost:8080/"
        },
        "id": "MrG0u5Hilgoq",
        "outputId": "bb1723a1-bd9d-4ee4-8439-31b50d7554d3"
      },
      "source": [
        "# Show DataFrame\n",
        "economic_data_df.show()"
      ],
      "execution_count": 6,
      "outputs": [
        {
          "output_type": "stream",
          "text": [
            "+------+------------+------------+------------+--------+---------+--------+\n",
            "|  Date|   inflation|    S&Pyield|unemployment|UMCSENT4|homeindex|UMCSENT6|\n",
            "+------+------------+------------+------------+--------+---------+--------+\n",
            "|200001|         0.0|-0.610842585|         4.0|   111.3|   0.0646|   111.3|\n",
            "|200002| 0.068801898|-0.241296999|         4.1|   107.1|   0.0646|   107.1|\n",
            "|200003| 0.096717122| 1.160637939|         4.0|   109.2|   0.0646|   109.2|\n",
            "|200004| 0.009360374|-0.369549067|         3.8|   110.7|   0.0666|   110.7|\n",
            "|200005| 0.009353079|-0.262980606|         4.0|   106.4|   0.0666|   106.4|\n",
            "|200006| 0.067757009| 0.287202595|         4.0|   108.3|   0.0666|   108.3|\n",
            "|200007| 0.023233301|-0.196095315|         4.0|   107.3|    0.067|   107.3|\n",
            "|200008| 0.002318841| 0.728389262|         4.1|   106.8|    0.067|   106.8|\n",
            "|200009|   0.0625966|-0.641795697|         3.9|   105.8|    0.067|   105.8|\n",
            "|200010| 0.020757255| -0.05939383|         3.9|   107.6|   0.0695|   107.6|\n",
            "|200011| 0.006907137| -0.96082332|         3.9|    98.4|   0.0695|    98.4|\n",
            "|200012|-0.009204219| 0.048641346|         3.9|    94.7|   0.0695|    94.7|\n",
            "|200101| 0.078295912| 0.415638925|         4.2|    90.6|   0.0703|    90.6|\n",
            "|200102| 0.050333651| -1.10748883|         4.2|    91.5|   0.0703|    91.5|\n",
            "|200103| 0.029618379|-0.770456526|         4.3|    88.4|   0.0703|    88.4|\n",
            "|200104| 0.043181818| 0.921772341|         4.4|    92.0|   0.0696|    92.0|\n",
            "|200105| 0.052085299| 0.061082245|         4.3|    92.6|   0.0696|    92.6|\n",
            "|200106| 0.024802706|-0.300424669|         4.5|    92.4|   0.0696|    92.4|\n",
            "|200107|-0.038252391|-0.128881801|         4.6|    91.5|    0.069|    91.5|\n",
            "|200108| 0.004514673|-0.769300879|         4.9|    81.8|    0.069|    81.8|\n",
            "+------+------------+------------+------------+--------+---------+--------+\n",
            "only showing top 20 rows\n",
            "\n"
          ],
          "name": "stdout"
        }
      ]
    },
    {
      "cell_type": "code",
      "metadata": {
        "colab": {
          "base_uri": "https://localhost:8080/"
        },
        "id": "BktoTvx2lmgr",
        "outputId": "ea59494e-3b06-4500-cfdb-362e46963e63"
      },
      "source": [
        "# Read in data from S3 Buckets - Media Data\n",
        "\n",
        "url =\"https://emmp-finalproject-bucket.s3.amazonaws.com/Movies-Cleaned-Final2.csv\"\n",
        "spark.sparkContext.addFile(url)\n",
        "media_df = spark.read.csv(SparkFiles.get(\"Movies-Cleaned-Final2.csv\"), sep=\",\", header=True, inferSchema=True)\n",
        "\n",
        "# Show DataFrame\n",
        "media_df.show()"
      ],
      "execution_count": 7,
      "outputs": [
        {
          "output_type": "stream",
          "text": [
            "+------+-----------+---------+\n",
            "|  Date|Total Gross|    Genre|\n",
            "+------+-----------+---------+\n",
            "|200601|   64724295|   Action|\n",
            "|200602|    8357325|   Action|\n",
            "|200603|  125928240|   Action|\n",
            "|200604|       2220|   Action|\n",
            "|200605|  368533435|   Action|\n",
            "|200606|   65454326|   Action|\n",
            "|200607|   63520641|   Action|\n",
            "|200608|       null|   Action|\n",
            "|200609|   94964871|   Action|\n",
            "|200610|   21727955|   Action|\n",
            "|200611|  170008586|   Action|\n",
            "|200612|  114811324|   Action|\n",
            "|200601|   98665890|Adventure|\n",
            "|200602|  230058104|Adventure|\n",
            "|200603|  195330621|Adventure|\n",
            "|200604|  110323204|Adventure|\n",
            "|200605|  223811794|Adventure|\n",
            "|200606|  472629729|Adventure|\n",
            "|200607|  525119357|Adventure|\n",
            "|200608|   84768328|Adventure|\n",
            "+------+-----------+---------+\n",
            "only showing top 20 rows\n",
            "\n"
          ],
          "name": "stdout"
        }
      ]
    },
    {
      "cell_type": "code",
      "metadata": {
        "colab": {
          "base_uri": "https://localhost:8080/"
        },
        "id": "SGKrlXa5Rx1R",
        "outputId": "7c1b9d35-ddb6-4e5b-af12-db9d0fa31c63"
      },
      "source": [
        "#Renaming total gross to remove space to make it compatible with SQL database \n",
        "# Removing nulls \n",
        "\n",
        "media_df = media_df.withColumnRenamed(\"Total Gross\", \"Gross\")\n",
        "media_df = media_df.dropna()\n",
        "media_df.show()"
      ],
      "execution_count": 8,
      "outputs": [
        {
          "output_type": "stream",
          "text": [
            "+------+---------+---------+\n",
            "|  Date|    Gross|    Genre|\n",
            "+------+---------+---------+\n",
            "|200601| 64724295|   Action|\n",
            "|200602|  8357325|   Action|\n",
            "|200603|125928240|   Action|\n",
            "|200604|     2220|   Action|\n",
            "|200605|368533435|   Action|\n",
            "|200606| 65454326|   Action|\n",
            "|200607| 63520641|   Action|\n",
            "|200609| 94964871|   Action|\n",
            "|200610| 21727955|   Action|\n",
            "|200611|170008586|   Action|\n",
            "|200612|114811324|   Action|\n",
            "|200601| 98665890|Adventure|\n",
            "|200602|230058104|Adventure|\n",
            "|200603|195330621|Adventure|\n",
            "|200604|110323204|Adventure|\n",
            "|200605|223811794|Adventure|\n",
            "|200606|472629729|Adventure|\n",
            "|200607|525119357|Adventure|\n",
            "|200608| 84768328|Adventure|\n",
            "|200609|100385675|Adventure|\n",
            "+------+---------+---------+\n",
            "only showing top 20 rows\n",
            "\n"
          ],
          "name": "stdout"
        }
      ]
    },
    {
      "cell_type": "code",
      "metadata": {
        "colab": {
          "base_uri": "https://localhost:8080/"
        },
        "id": "MWN22JvJXw7l",
        "outputId": "54fd29e2-8a5f-4d51-f056-a1d35d358b47"
      },
      "source": [
        "#Renaming media date column\n",
        "media_df = media_df.withColumnRenamed(\"Date\", \"mDate\")\n",
        "media_df.show()"
      ],
      "execution_count": 9,
      "outputs": [
        {
          "output_type": "stream",
          "text": [
            "+------+---------+---------+\n",
            "| mDate|    Gross|    Genre|\n",
            "+------+---------+---------+\n",
            "|200601| 64724295|   Action|\n",
            "|200602|  8357325|   Action|\n",
            "|200603|125928240|   Action|\n",
            "|200604|     2220|   Action|\n",
            "|200605|368533435|   Action|\n",
            "|200606| 65454326|   Action|\n",
            "|200607| 63520641|   Action|\n",
            "|200609| 94964871|   Action|\n",
            "|200610| 21727955|   Action|\n",
            "|200611|170008586|   Action|\n",
            "|200612|114811324|   Action|\n",
            "|200601| 98665890|Adventure|\n",
            "|200602|230058104|Adventure|\n",
            "|200603|195330621|Adventure|\n",
            "|200604|110323204|Adventure|\n",
            "|200605|223811794|Adventure|\n",
            "|200606|472629729|Adventure|\n",
            "|200607|525119357|Adventure|\n",
            "|200608| 84768328|Adventure|\n",
            "|200609|100385675|Adventure|\n",
            "+------+---------+---------+\n",
            "only showing top 20 rows\n",
            "\n"
          ],
          "name": "stdout"
        }
      ]
    },
    {
      "cell_type": "code",
      "metadata": {
        "id": "u4iBLqaYHd_V",
        "colab": {
          "base_uri": "https://localhost:8080/"
        },
        "outputId": "59bb2230-9414-4af2-da25-a9bca31bc4a0"
      },
      "source": [
        "#Create economics DataFrames that match what is in the AWS RDS database.\n",
        "\n",
        "#create economics DF to match economics table\n",
        "clean_economics_df = economic_data_df.select(['Date', 'inflation', 'S&Pyield', 'unemployment', 'UMCSENT4', 'homeindex'])\n",
        "clean_economics_df.show()"
      ],
      "execution_count": 10,
      "outputs": [
        {
          "output_type": "stream",
          "text": [
            "+------+------------+------------+------------+--------+---------+\n",
            "|  Date|   inflation|    S&Pyield|unemployment|UMCSENT4|homeindex|\n",
            "+------+------------+------------+------------+--------+---------+\n",
            "|200001|         0.0|-0.610842585|         4.0|   111.3|   0.0646|\n",
            "|200002| 0.068801898|-0.241296999|         4.1|   107.1|   0.0646|\n",
            "|200003| 0.096717122| 1.160637939|         4.0|   109.2|   0.0646|\n",
            "|200004| 0.009360374|-0.369549067|         3.8|   110.7|   0.0666|\n",
            "|200005| 0.009353079|-0.262980606|         4.0|   106.4|   0.0666|\n",
            "|200006| 0.067757009| 0.287202595|         4.0|   108.3|   0.0666|\n",
            "|200007| 0.023233301|-0.196095315|         4.0|   107.3|    0.067|\n",
            "|200008| 0.002318841| 0.728389262|         4.1|   106.8|    0.067|\n",
            "|200009|   0.0625966|-0.641795697|         3.9|   105.8|    0.067|\n",
            "|200010| 0.020757255| -0.05939383|         3.9|   107.6|   0.0695|\n",
            "|200011| 0.006907137| -0.96082332|         3.9|    98.4|   0.0695|\n",
            "|200012|-0.009204219| 0.048641346|         3.9|    94.7|   0.0695|\n",
            "|200101| 0.078295912| 0.415638925|         4.2|    90.6|   0.0703|\n",
            "|200102| 0.050333651| -1.10748883|         4.2|    91.5|   0.0703|\n",
            "|200103| 0.029618379|-0.770456526|         4.3|    88.4|   0.0703|\n",
            "|200104| 0.043181818| 0.921772341|         4.4|    92.0|   0.0696|\n",
            "|200105| 0.052085299| 0.061082245|         4.3|    92.6|   0.0696|\n",
            "|200106| 0.024802706|-0.300424669|         4.5|    92.4|   0.0696|\n",
            "|200107|-0.038252391|-0.128881801|         4.6|    91.5|    0.069|\n",
            "|200108| 0.004514673|-0.769300879|         4.9|    81.8|    0.069|\n",
            "+------+------------+------------+------------+--------+---------+\n",
            "only showing top 20 rows\n",
            "\n"
          ],
          "name": "stdout"
        }
      ]
    },
    {
      "cell_type": "code",
      "metadata": {
        "colab": {
          "base_uri": "https://localhost:8080/"
        },
        "id": "R3DIW--3RglU",
        "outputId": "98af58a2-9a10-4353-d2dd-b8f6cc115529"
      },
      "source": [
        "#Removing NA\n",
        "\n",
        "clean_economics_df = clean_economics_df.dropna()\n",
        "clean_economics_df.show()"
      ],
      "execution_count": 11,
      "outputs": [
        {
          "output_type": "stream",
          "text": [
            "+------+------------+------------+------------+--------+---------+\n",
            "|  Date|   inflation|    S&Pyield|unemployment|UMCSENT4|homeindex|\n",
            "+------+------------+------------+------------+--------+---------+\n",
            "|200001|         0.0|-0.610842585|         4.0|   111.3|   0.0646|\n",
            "|200002| 0.068801898|-0.241296999|         4.1|   107.1|   0.0646|\n",
            "|200003| 0.096717122| 1.160637939|         4.0|   109.2|   0.0646|\n",
            "|200004| 0.009360374|-0.369549067|         3.8|   110.7|   0.0666|\n",
            "|200005| 0.009353079|-0.262980606|         4.0|   106.4|   0.0666|\n",
            "|200006| 0.067757009| 0.287202595|         4.0|   108.3|   0.0666|\n",
            "|200007| 0.023233301|-0.196095315|         4.0|   107.3|    0.067|\n",
            "|200008| 0.002318841| 0.728389262|         4.1|   106.8|    0.067|\n",
            "|200009|   0.0625966|-0.641795697|         3.9|   105.8|    0.067|\n",
            "|200010| 0.020757255| -0.05939383|         3.9|   107.6|   0.0695|\n",
            "|200011| 0.006907137| -0.96082332|         3.9|    98.4|   0.0695|\n",
            "|200012|-0.009204219| 0.048641346|         3.9|    94.7|   0.0695|\n",
            "|200101| 0.078295912| 0.415638925|         4.2|    90.6|   0.0703|\n",
            "|200102| 0.050333651| -1.10748883|         4.2|    91.5|   0.0703|\n",
            "|200103| 0.029618379|-0.770456526|         4.3|    88.4|   0.0703|\n",
            "|200104| 0.043181818| 0.921772341|         4.4|    92.0|   0.0696|\n",
            "|200105| 0.052085299| 0.061082245|         4.3|    92.6|   0.0696|\n",
            "|200106| 0.024802706|-0.300424669|         4.5|    92.4|   0.0696|\n",
            "|200107|-0.038252391|-0.128881801|         4.6|    91.5|    0.069|\n",
            "|200108| 0.004514673|-0.769300879|         4.9|    81.8|    0.069|\n",
            "+------+------------+------------+------------+--------+---------+\n",
            "only showing top 20 rows\n",
            "\n"
          ],
          "name": "stdout"
        }
      ]
    },
    {
      "cell_type": "code",
      "metadata": {
        "colab": {
          "base_uri": "https://localhost:8080/"
        },
        "id": "K72ZushEO3JV",
        "outputId": "12f1b3e1-6f94-4488-c6ee-77ac5ba759ec"
      },
      "source": [
        "#Renaming S&P to remove ampere sign to make compatible with SQL database \n",
        "\n",
        "clean_economics_df = clean_economics_df.withColumnRenamed(\"S&Pyield\", \"SPyield\")\n",
        "clean_economics_df.show()"
      ],
      "execution_count": 12,
      "outputs": [
        {
          "output_type": "stream",
          "text": [
            "+------+------------+------------+------------+--------+---------+\n",
            "|  Date|   inflation|     SPyield|unemployment|UMCSENT4|homeindex|\n",
            "+------+------------+------------+------------+--------+---------+\n",
            "|200001|         0.0|-0.610842585|         4.0|   111.3|   0.0646|\n",
            "|200002| 0.068801898|-0.241296999|         4.1|   107.1|   0.0646|\n",
            "|200003| 0.096717122| 1.160637939|         4.0|   109.2|   0.0646|\n",
            "|200004| 0.009360374|-0.369549067|         3.8|   110.7|   0.0666|\n",
            "|200005| 0.009353079|-0.262980606|         4.0|   106.4|   0.0666|\n",
            "|200006| 0.067757009| 0.287202595|         4.0|   108.3|   0.0666|\n",
            "|200007| 0.023233301|-0.196095315|         4.0|   107.3|    0.067|\n",
            "|200008| 0.002318841| 0.728389262|         4.1|   106.8|    0.067|\n",
            "|200009|   0.0625966|-0.641795697|         3.9|   105.8|    0.067|\n",
            "|200010| 0.020757255| -0.05939383|         3.9|   107.6|   0.0695|\n",
            "|200011| 0.006907137| -0.96082332|         3.9|    98.4|   0.0695|\n",
            "|200012|-0.009204219| 0.048641346|         3.9|    94.7|   0.0695|\n",
            "|200101| 0.078295912| 0.415638925|         4.2|    90.6|   0.0703|\n",
            "|200102| 0.050333651| -1.10748883|         4.2|    91.5|   0.0703|\n",
            "|200103| 0.029618379|-0.770456526|         4.3|    88.4|   0.0703|\n",
            "|200104| 0.043181818| 0.921772341|         4.4|    92.0|   0.0696|\n",
            "|200105| 0.052085299| 0.061082245|         4.3|    92.6|   0.0696|\n",
            "|200106| 0.024802706|-0.300424669|         4.5|    92.4|   0.0696|\n",
            "|200107|-0.038252391|-0.128881801|         4.6|    91.5|    0.069|\n",
            "|200108| 0.004514673|-0.769300879|         4.9|    81.8|    0.069|\n",
            "+------+------------+------------+------------+--------+---------+\n",
            "only showing top 20 rows\n",
            "\n"
          ],
          "name": "stdout"
        }
      ]
    },
    {
      "cell_type": "code",
      "metadata": {
        "colab": {
          "base_uri": "https://localhost:8080/"
        },
        "id": "yC2woim5Xjx9",
        "outputId": "b372e9c7-ce27-4c4c-b5dd-76d20088253f"
      },
      "source": [
        "#Renaming Date column \n",
        "clean_economics_df = clean_economics_df.withColumnRenamed(\"Date\", \"eDate\")\n",
        "clean_economics_df.show()"
      ],
      "execution_count": 13,
      "outputs": [
        {
          "output_type": "stream",
          "text": [
            "+------+------------+------------+------------+--------+---------+\n",
            "| eDate|   inflation|     SPyield|unemployment|UMCSENT4|homeindex|\n",
            "+------+------------+------------+------------+--------+---------+\n",
            "|200001|         0.0|-0.610842585|         4.0|   111.3|   0.0646|\n",
            "|200002| 0.068801898|-0.241296999|         4.1|   107.1|   0.0646|\n",
            "|200003| 0.096717122| 1.160637939|         4.0|   109.2|   0.0646|\n",
            "|200004| 0.009360374|-0.369549067|         3.8|   110.7|   0.0666|\n",
            "|200005| 0.009353079|-0.262980606|         4.0|   106.4|   0.0666|\n",
            "|200006| 0.067757009| 0.287202595|         4.0|   108.3|   0.0666|\n",
            "|200007| 0.023233301|-0.196095315|         4.0|   107.3|    0.067|\n",
            "|200008| 0.002318841| 0.728389262|         4.1|   106.8|    0.067|\n",
            "|200009|   0.0625966|-0.641795697|         3.9|   105.8|    0.067|\n",
            "|200010| 0.020757255| -0.05939383|         3.9|   107.6|   0.0695|\n",
            "|200011| 0.006907137| -0.96082332|         3.9|    98.4|   0.0695|\n",
            "|200012|-0.009204219| 0.048641346|         3.9|    94.7|   0.0695|\n",
            "|200101| 0.078295912| 0.415638925|         4.2|    90.6|   0.0703|\n",
            "|200102| 0.050333651| -1.10748883|         4.2|    91.5|   0.0703|\n",
            "|200103| 0.029618379|-0.770456526|         4.3|    88.4|   0.0703|\n",
            "|200104| 0.043181818| 0.921772341|         4.4|    92.0|   0.0696|\n",
            "|200105| 0.052085299| 0.061082245|         4.3|    92.6|   0.0696|\n",
            "|200106| 0.024802706|-0.300424669|         4.5|    92.4|   0.0696|\n",
            "|200107|-0.038252391|-0.128881801|         4.6|    91.5|    0.069|\n",
            "|200108| 0.004514673|-0.769300879|         4.9|    81.8|    0.069|\n",
            "+------+------------+------------+------------+--------+---------+\n",
            "only showing top 20 rows\n",
            "\n"
          ],
          "name": "stdout"
        }
      ]
    },
    {
      "cell_type": "code",
      "metadata": {
        "id": "DDNI3wFkOLzp"
      },
      "source": [
        "# Load - transformed raw data into our database.\n",
        "# Configure settings for RDS\n",
        "mode = \"append\"\n",
        "jdbc_url=\"jdbc:postgresql://dbfinal.cp1bf7yng3ct.us-east-1.rds.amazonaws.com:5432/final_project\"\n",
        "config = {\"user\":\"postgres\",\n",
        "          \"password\": \"Bitro123*\",\n",
        "          \"driver\":\"org.postgresql.Driver\"}"
      ],
      "execution_count": 15,
      "outputs": []
    },
    {
      "cell_type": "code",
      "metadata": {
        "id": "lZGclorOO0B1"
      },
      "source": [
        "# DataFrame to economics table\n",
        "clean_economics_df.write.jdbc(url=jdbc_url, table='economics', mode=mode, properties=config)"
      ],
      "execution_count": 16,
      "outputs": []
    },
    {
      "cell_type": "code",
      "metadata": {
        "id": "IsVvXIGRQwMC"
      },
      "source": [
        "# DataFrame to media_info table\n",
        "media_df.write.jdbc(url=jdbc_url, table='media_info', mode=mode, properties=config)"
      ],
      "execution_count": 17,
      "outputs": []
    },
    {
      "cell_type": "code",
      "metadata": {
        "id": "ith5IFATTno3"
      },
      "source": [
        "# Join the tables on the database "
      ],
      "execution_count": null,
      "outputs": []
    },
    {
      "cell_type": "code",
      "metadata": {
        "id": "sFPaHqNrk8Vx"
      },
      "source": [
        "#Importing the economics & media data combined \n",
        "\n",
        "medianeconomics_table = spark.read.jdbc(url=jdbc_url, table=\"medianeconomics\", properties=config)\n"
      ],
      "execution_count": 18,
      "outputs": []
    },
    {
      "cell_type": "code",
      "metadata": {
        "colab": {
          "base_uri": "https://localhost:8080/"
        },
        "id": "NcWr4HV_oJZd",
        "outputId": "5e715ac5-a4d7-4117-9d05-2ebdb25868ad"
      },
      "source": [
        "medianeconomics_table.show()"
      ],
      "execution_count": 19,
      "outputs": [
        {
          "output_type": "stream",
          "text": [
            "+------+------------+-----------+------------+--------+---------+---------+---------+\n",
            "| edate|   inflation|    spyield|unemployment|umcsent4|homeindex|    genre|    gross|\n",
            "+------+------------+-----------+------------+--------+---------+---------+---------+\n",
            "|200601|   0.0916186| 0.30560127|         4.7|    86.7|   0.0914|   Action| 64724295|\n",
            "|200602| 0.026267048|0.005437892|         4.8|    88.9|   0.0914|   Action|  8357325|\n",
            "|200603|  0.06854839| 0.13314973|         4.7|    87.4|   0.0914|   Action|125928240|\n",
            "|200604|   0.0982292| 0.14586784|         4.7|    79.1|    0.071|   Action|     2220|\n",
            "|200605|  0.05965203|  -0.371003|         4.6|    84.9|    0.071|   Action|368533435|\n",
            "|200606| 0.025721353|0.001039155|         4.6|    84.7|    0.071|   Action| 65454326|\n",
            "|200607| 0.035538007|0.061030544|         4.7|    82.0|   0.0455|   Action| 63520641|\n",
            "|200609|-0.058929447| 0.29479557|         4.5|    93.6|   0.0455|   Action| 94964871|\n",
            "|200610|-0.065142296| 0.37809604|         4.4|    92.1|   0.0288|   Action| 21727955|\n",
            "|200611|-0.019847833| 0.19759989|         4.5|    91.7|   0.0288|   Action|170008586|\n",
            "|200612| 0.017892644| 0.15138939|         4.4|    96.9|   0.0288|   Action|114811324|\n",
            "|200601|   0.0916186| 0.30560127|         4.7|    86.7|   0.0914|Adventure| 98665890|\n",
            "|200602| 0.026267048|0.005437892|         4.8|    88.9|   0.0914|Adventure|230058104|\n",
            "|200603|  0.06854839| 0.13314973|         4.7|    87.4|   0.0914|Adventure|195330621|\n",
            "|200604|   0.0982292| 0.14586784|         4.7|    79.1|    0.071|Adventure|110323204|\n",
            "|200605|  0.05965203|  -0.371003|         4.6|    84.9|    0.071|Adventure|223811794|\n",
            "|200606| 0.025721353|0.001039155|         4.6|    84.7|    0.071|Adventure|472629729|\n",
            "|200607| 0.035538007|0.061030544|         4.7|    82.0|   0.0455|Adventure|525119357|\n",
            "|200608|  0.02559055| 0.25529033|         4.7|    85.4|   0.0455|Adventure| 84768328|\n",
            "|200609|-0.058929447| 0.29479557|         4.5|    93.6|   0.0455|Adventure|100385675|\n",
            "+------+------------+-----------+------------+--------+---------+---------+---------+\n",
            "only showing top 20 rows\n",
            "\n"
          ],
          "name": "stdout"
        }
      ]
    },
    {
      "cell_type": "code",
      "metadata": {
        "id": "tL7m1qyFrloR"
      },
      "source": [
        "# Save file local folder, delimiter by default is ,\n",
        "medianeconomics_table.write.format('csv').option('header',True).mode('overwrite').option('sep',',').save('file:///Mac_1/Downloads/output.csv')\n",
        "\n",
        "#OR\n",
        "\n",
        "#medianeconomics_table.repartition(1).write.format('com.databricks.spark.csv').save('file:///Mac_1/Downloads/output2.csv',header = 'true')"
      ],
      "execution_count": 20,
      "outputs": []
    }
  ]
}